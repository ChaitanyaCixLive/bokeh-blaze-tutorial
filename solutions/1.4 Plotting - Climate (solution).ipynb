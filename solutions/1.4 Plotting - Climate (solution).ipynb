{
 "cells": [
  {
   "cell_type": "markdown",
   "metadata": {},
   "source": [
    "# <img src=images/continuum_analytics_b&w.png align=\"left\" width=\"15%\" style=\"margin-right:15%\">"
   ]
  },
  {
   "cell_type": "markdown",
   "metadata": {},
   "source": [
    "<h1 align='center'>Bokeh Tutorial</h1>"
   ]
  },
  {
   "cell_type": "markdown",
   "metadata": {},
   "source": [
    "## 1.4 Plotting - Climate"
   ]
  },
  {
   "cell_type": "markdown",
   "metadata": {},
   "source": [
    "**Exercise: Plot temperature anomaly monthly average for a given year and month by lat/lon with bokeh.plotting.image_rgba()**\n",
    "\n",
    "- Data: 'data/Land_and_Ocean_LatLong1.nc'\n",
    "\n",
    "*Note: For your convienience, I'm providing an RGBAColorMapper*\n",
    "\n",
    "[Bokeh color palettes](http://bokeh.pydata.org/en/0.11.0/docs/reference/palettes.html)"
   ]
  },
  {
   "cell_type": "code",
   "execution_count": null,
   "metadata": {
    "collapsed": false
   },
   "outputs": [],
   "source": [
    "from utils.colormap import RGBAColorMapper"
   ]
  },
  {
   "cell_type": "code",
   "execution_count": null,
   "metadata": {
    "collapsed": false
   },
   "outputs": [],
   "source": [
    "# Get the netCDF4 variable for temperature anomaly\n",
    "import netCDF4\n",
    "\n",
    "data = netCDF4.Dataset('data/Land_and_Ocean_LatLong1.nc')\n",
    "t = data.variables['temperature']"
   ]
  },
  {
   "cell_type": "code",
   "execution_count": null,
   "metadata": {
    "collapsed": false
   },
   "outputs": [],
   "source": [
    "# Initialize the colormap with a bokeh palette and the low and high values for the scale.\n",
    "from bokeh.palettes import RdBu11\n",
    "colormap = RGBAColorMapper(-6, 6, RdBu11)"
   ]
  },
  {
   "cell_type": "code",
   "execution_count": null,
   "metadata": {
    "collapsed": false
   },
   "outputs": [],
   "source": [
    "# Write a function ``get_slice(temperature_variable, year, month)`` that given a temperature variable, year and month\n",
    "# returns an array of rgba colors. (Hint: Use RGBAColorMapper.color()). \n",
    "def get_slice(t, year, month):\n",
    "    i = (year - 1850)*12 + month - 1\n",
    "    return colormap.color(t[i, :, :])"
   ]
  },
  {
   "cell_type": "code",
   "execution_count": null,
   "metadata": {
    "collapsed": true
   },
   "outputs": [],
   "source": [
    "from bokeh.plotting import figure, output_notebook, show"
   ]
  },
  {
   "cell_type": "code",
   "execution_count": null,
   "metadata": {
    "collapsed": false
   },
   "outputs": [],
   "source": [
    "# Set output option\n",
    "output_notebook()"
   ]
  },
  {
   "cell_type": "code",
   "execution_count": null,
   "metadata": {
    "collapsed": true
   },
   "outputs": [],
   "source": [
    "# Get image data for a given year and month using the ``get_slice`` function\n",
    "image = get_slice(t, 1950, 1)"
   ]
  },
  {
   "cell_type": "code",
   "execution_count": null,
   "metadata": {
    "collapsed": false
   },
   "outputs": [],
   "source": [
    "# Create plot\n",
    "# Tip: Make sure to set x_range and y_range appropriately\n",
    "p =  figure(width=900, height=500, x_axis_type=None, y_axis_type=None, x_range=[-180,180], y_range=[-90,90])\n",
    "\n",
    "p.image_rgba(\n",
    "    image=[image],\n",
    "    x=[-180], y=[-90],\n",
    "    dw=[360], dh=[180], name='image'\n",
    ")"
   ]
  },
  {
   "cell_type": "code",
   "execution_count": null,
   "metadata": {
    "collapsed": false,
    "scrolled": false
   },
   "outputs": [],
   "source": [
    "# Show plot\n",
    "show(p)"
   ]
  },
  {
   "cell_type": "code",
   "execution_count": null,
   "metadata": {
    "collapsed": false
   },
   "outputs": [],
   "source": [
    "# Change the year and month and rerun the plot again.\n",
    "image = get_slice(t, 1980, 8)\n",
    "p =  figure(width=900, height=500, x_axis_type=None, y_axis_type=None, x_range=[-180,180], y_range=[-90,90])\n",
    "\n",
    "p.image_rgba(\n",
    "    image=[image],\n",
    "    x=[-180], y=[-90],\n",
    "    dw=[360], dh=[180], name='image'\n",
    ")\n",
    "show(p)"
   ]
  },
  {
   "cell_type": "markdown",
   "metadata": {},
   "source": [
    "**Exercise: Overlay the worldmap boundaries in the temperature image plot**"
   ]
  },
  {
   "cell_type": "code",
   "execution_count": null,
   "metadata": {
    "collapsed": false
   },
   "outputs": [],
   "source": [
    "# Get worldmap data\n",
    "import pandas as pd\n",
    "import utils.world_countries as wc\n",
    "world_countries = wc.data.copy()\n",
    "\n",
    "worldmap = pd.DataFrame.from_dict(world_countries, orient='index')"
   ]
  },
  {
   "cell_type": "code",
   "execution_count": null,
   "metadata": {
    "collapsed": false
   },
   "outputs": [],
   "source": [
    "# Create your plot\n",
    "p =  figure(width=900, height=500, x_axis_type=None, y_axis_type=None, x_range=[-180,180], y_range=[-90,90])\n",
    "\n",
    "p.image_rgba(\n",
    "    image=[image],\n",
    "    x=[-180], y=[-90],\n",
    "    dw=[360], dh=[180], name='image'\n",
    ")\n",
    "\n",
    "p.patches(xs=worldmap['lons'], ys=worldmap['lats'], fill_color=\"white\", fill_alpha=0,\n",
    "    line_color=\"black\", line_width=0.5)"
   ]
  },
  {
   "cell_type": "code",
   "execution_count": null,
   "metadata": {
    "collapsed": false
   },
   "outputs": [],
   "source": [
    "# Show plot\n",
    "show(p)"
   ]
  },
  {
   "cell_type": "code",
   "execution_count": null,
   "metadata": {
    "collapsed": true
   },
   "outputs": [],
   "source": []
  }
 ],
 "metadata": {
  "kernelspec": {
   "display_name": "Python 3",
   "language": "python",
   "name": "python3"
  },
  "language_info": {
   "codemirror_mode": {
    "name": "ipython",
    "version": 3
   },
   "file_extension": ".py",
   "mimetype": "text/x-python",
   "name": "python",
   "nbconvert_exporter": "python",
   "pygments_lexer": "ipython3",
   "version": "3.5.0"
  }
 },
 "nbformat": 4,
 "nbformat_minor": 0
}

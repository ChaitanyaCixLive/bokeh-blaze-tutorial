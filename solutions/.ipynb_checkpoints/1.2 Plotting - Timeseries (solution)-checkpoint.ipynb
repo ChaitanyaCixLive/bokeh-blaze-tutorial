{
 "cells": [
  {
   "cell_type": "markdown",
   "metadata": {},
   "source": [
    "# <img src=images/continuum_analytics_b&w.png align=\"left\" width=\"15%\" style=\"margin-right:15%\">"
   ]
  },
  {
   "cell_type": "markdown",
   "metadata": {},
   "source": [
    "<h1 align='center'>Bokeh tutorial</h1>"
   ]
  },
  {
   "cell_type": "markdown",
   "metadata": {},
   "source": [
    "## 1.2 Plotting - Timeseries"
   ]
  },
  {
   "cell_type": "markdown",
   "metadata": {},
   "source": [
    "**Exercise: Reproduce the timeseries chart using the plotting interface**\n",
    "\n",
    "- Data: 'data/Land_Ocean_Monthly_Anomaly_Average.csv'\n",
    "\n",
    "\n",
    "*Note: Don't worry about styling right now. We'll go over plot properties in the next exercise*"
   ]
  },
  {
   "cell_type": "code",
   "execution_count": null,
   "metadata": {
    "collapsed": true
   },
   "outputs": [],
   "source": [
    "import pandas as pd\n",
    "from bokeh.plotting import figure, show, output_notebook"
   ]
  },
  {
   "cell_type": "code",
   "execution_count": null,
   "metadata": {
    "collapsed": true
   },
   "outputs": [],
   "source": [
    "# Get data\n",
    "df = pd.read_csv('data/Land_Ocean_Monthly_Anomaly_Average.csv')"
   ]
  },
  {
   "cell_type": "code",
   "execution_count": null,
   "metadata": {
    "collapsed": true
   },
   "outputs": [],
   "source": [
    "# Process data\n",
    "df['datetime'] = pd.to_datetime(df['datetime'])\n",
    "df = df[['anomaly','datetime']]\n",
    "df['moving_average'] = pd.rolling_mean(df['anomaly'], 12)"
   ]
  },
  {
   "cell_type": "code",
   "execution_count": null,
   "metadata": {
    "collapsed": false
   },
   "outputs": [],
   "source": [
    "# Output option\n",
    "output_notebook()"
   ]
  },
  {
   "cell_type": "code",
   "execution_count": null,
   "metadata": {
    "collapsed": false
   },
   "outputs": [],
   "source": [
    "# Create your plot\n",
    "p = figure()\n",
    "p.line(df['datetime'], df['anomaly'])\n",
    "p.line(df['datetime'], df['moving_average'])"
   ]
  },
  {
   "cell_type": "code",
   "execution_count": null,
   "metadata": {
    "collapsed": false
   },
   "outputs": [],
   "source": [
    "# Show plot\n",
    "show(p)"
   ]
  },
  {
   "cell_type": "markdown",
   "metadata": {},
   "source": [
    "**Exercise: Style the plot appropriately**\n",
    "\n",
    "Ideas:\n",
    "\n",
    "- Axis type and format\n",
    "- Line colors\n",
    "- Legend\n",
    "- Grid lines\n",
    "- Axis labels\n",
    "- Width and height\n",
    "- Remove toolbar\n",
    "\n",
    "Tips:\n",
    "\n",
    "    bokeh.models.DatetimeTickFormatter()\n",
    "\n",
    "Note: You can create a new figure to see observe the differences."
   ]
  },
  {
   "cell_type": "code",
   "execution_count": null,
   "metadata": {
    "collapsed": true
   },
   "outputs": [],
   "source": [
    "from bokeh.models import DatetimeTickFormatter\n",
    "import math"
   ]
  },
  {
   "cell_type": "code",
   "execution_count": null,
   "metadata": {
    "collapsed": true
   },
   "outputs": [],
   "source": [
    "# Axis type, width and height\n",
    "t = figure(x_axis_type = \"datetime\", width=900, height=200)"
   ]
  },
  {
   "cell_type": "code",
   "execution_count": null,
   "metadata": {
    "collapsed": false
   },
   "outputs": [],
   "source": [
    "# Line colors and legend \n",
    "t.line(df['datetime'], df['anomaly'], color='lightgrey', legend='anom')\n",
    "t.line(df['datetime'], df['moving_average'], color='red', legend='avg')"
   ]
  },
  {
   "cell_type": "code",
   "execution_count": null,
   "metadata": {
    "collapsed": false
   },
   "outputs": [],
   "source": [
    "# Axis format (e.g tick format and orientation)\n",
    "xformatter = DatetimeTickFormatter(formats=dict(months=[\"%b %Y\"], years=[\"%Y\"]))\n",
    "t.xaxis[0].formatter = xformatter\n",
    "t.xaxis.major_label_orientation = math.pi/4"
   ]
  },
  {
   "cell_type": "code",
   "execution_count": null,
   "metadata": {
    "collapsed": true
   },
   "outputs": [],
   "source": [
    "# Axis labels\n",
    "t.yaxis.axis_label = 'Anomaly(ºC)'"
   ]
  },
  {
   "cell_type": "code",
   "execution_count": null,
   "metadata": {
    "collapsed": false
   },
   "outputs": [],
   "source": [
    "# Legend position\n",
    "t.legend.location = \"bottom_right\""
   ]
  },
  {
   "cell_type": "code",
   "execution_count": null,
   "metadata": {
    "collapsed": true
   },
   "outputs": [],
   "source": [
    "# Grid style\n",
    "t.grid.grid_line_alpha=0.2"
   ]
  },
  {
   "cell_type": "code",
   "execution_count": null,
   "metadata": {
    "collapsed": true
   },
   "outputs": [],
   "source": [
    "# Remove toolbar\n",
    "t.toolbar_location=None"
   ]
  },
  {
   "cell_type": "code",
   "execution_count": null,
   "metadata": {
    "collapsed": false,
    "scrolled": true
   },
   "outputs": [],
   "source": [
    "# Show plot\n",
    "show(t)"
   ]
  },
  {
   "cell_type": "markdown",
   "metadata": {},
   "source": [
    "**Exercise: Add a crosshair and hover tool to the plot**"
   ]
  },
  {
   "cell_type": "code",
   "execution_count": null,
   "metadata": {
    "collapsed": true
   },
   "outputs": [],
   "source": [
    "from bokeh.models import ColumnDataSource, HoverTool\n",
    "from collections import OrderedDict"
   ]
  },
  {
   "cell_type": "code",
   "execution_count": null,
   "metadata": {
    "collapsed": true
   },
   "outputs": [],
   "source": [
    "# List all the tools that you want in your plot separated by comas, all in one string.\n",
    "TOOLS=\"crosshair,pan,wheel_zoom,box_zoom,reset,hover,previewsave\""
   ]
  },
  {
   "cell_type": "code",
   "execution_count": null,
   "metadata": {
    "collapsed": true
   },
   "outputs": [],
   "source": [
    "# Add the tools to your figure\n",
    "t = figure(x_axis_type = \"datetime\", width=1000, height=200,tools=TOOLS)"
   ]
  },
  {
   "cell_type": "code",
   "execution_count": null,
   "metadata": {
    "collapsed": false
   },
   "outputs": [],
   "source": [
    "# The hover tools doesn't render datetime appropriately. We'll need a string.\n",
    "df[\"datetime_s\"]=df[[\"datetime\"]].applymap(str)"
   ]
  },
  {
   "cell_type": "code",
   "execution_count": null,
   "metadata": {
    "collapsed": true
   },
   "outputs": [],
   "source": [
    "# To reference variables in the hover box, we'll need to use bokeh.ColumnDataSource instead of a pd.DataFrame\n",
    "source = ColumnDataSource(df)"
   ]
  },
  {
   "cell_type": "code",
   "execution_count": null,
   "metadata": {
    "collapsed": false
   },
   "outputs": [],
   "source": [
    "# Change plotting.line to get values from ColumnDataSource, name the renderer that you want to have the hover activated\n",
    "t.line('datetime', 'anomaly', color='lightgrey', legend='anom', source=source)\n",
    "t.line('datetime', 'moving_average', color='red', legend='avg', source=source, name=\"mva\")"
   ]
  },
  {
   "cell_type": "code",
   "execution_count": null,
   "metadata": {
    "collapsed": true
   },
   "outputs": [],
   "source": [
    "# Set hover tool\n",
    "hover = t.select(dict(type=HoverTool))\n",
    "hover.tooltips = OrderedDict([\n",
    "    (\"anomaly\", \"@anomaly\"),\n",
    "    (\"datetime\", \"@datetime_s\"),\n",
    "])\n",
    "hover.renderers = t.select(\"mva\")"
   ]
  },
  {
   "cell_type": "code",
   "execution_count": null,
   "metadata": {
    "collapsed": false
   },
   "outputs": [],
   "source": [
    "# Copy your style from the previous exercise\n",
    "xformatter = DatetimeTickFormatter(formats=dict(months=[\"%b %Y\"], years=[\"%Y\"]))\n",
    "t.xaxis[0].formatter = xformatter\n",
    "t.xaxis.major_label_orientation = math.pi/4\n",
    "t.yaxis.axis_label = 'Anomaly(ºC)'\n",
    "t.legend.location = \"bottom_right\"\n",
    "t.grid.grid_line_alpha=0.2\n",
    "t.toolbar_location=None"
   ]
  },
  {
   "cell_type": "code",
   "execution_count": null,
   "metadata": {
    "collapsed": false
   },
   "outputs": [],
   "source": [
    "# Show plot\n",
    "show(t)"
   ]
  },
  {
   "cell_type": "markdown",
   "metadata": {},
   "source": [
    "**[OPTIONAL] Exercise: Style the hover tooltip **"
   ]
  },
  {
   "cell_type": "markdown",
   "metadata": {},
   "source": [
    "http://bokeh.pydata.org/en/latest/docs/user_guide/tools.html#custom-tooltip"
   ]
  },
  {
   "cell_type": "code",
   "execution_count": null,
   "metadata": {
    "collapsed": false
   },
   "outputs": [],
   "source": [
    "# New figure\n",
    "t = figure(x_axis_type = \"datetime\", width=1000, height=200,tools=TOOLS)\n",
    "\n",
    "# Data processing\n",
    "# The hover tools doesn't render datetime appropriately. We'll need a string. \n",
    "# We just want dates, remove time\n",
    "f = lambda x: str(x)[:7]\n",
    "df[\"datetime_s\"]=df[[\"datetime\"]].applymap(f)\n",
    "source = ColumnDataSource(df)\n",
    "\n",
    "# Create plot\n",
    "t.line('datetime', 'anomaly', color='lightgrey', legend='anom', source=source)\n",
    "t.line('datetime', 'moving_average', color='red', legend='avg', source=source, name=\"mva\")\n",
    "\n",
    "# Style\n",
    "xformatter = DatetimeTickFormatter(formats=dict(months=[\"%b %Y\"], years=[\"%Y\"]))\n",
    "t.xaxis[0].formatter = xformatter\n",
    "t.xaxis.major_label_orientation = math.pi/4\n",
    "t.yaxis.axis_label = 'Anomaly(ºC)'\n",
    "t.legend.location = \"bottom_right\"\n",
    "t.grid.grid_line_alpha=0.2\n",
    "t.toolbar_location=None\n",
    "\n",
    "# Style hover tool\n",
    "hover = t.select(dict(type=HoverTool))\n",
    "hover.tooltips = \"\"\"\n",
    "    <div>\n",
    "        <span style=\"font-size: 15px;\">Anomaly</span>\n",
    "        <span style=\"font-size: 17px;  color: red;\">@anomaly</span>\n",
    "    </div>\n",
    "    <div>\n",
    "        <span style=\"font-size: 15px;\">Month</span>\n",
    "        <span style=\"font-size: 10px; color: grey;\">@datetime_s</span>\n",
    "    </div>\n",
    "    \"\"\"\n",
    "hover.renderers = t.select(\"mva\")\n",
    "\n",
    "# Show plot\n",
    "show(t)"
   ]
  },
  {
   "cell_type": "code",
   "execution_count": null,
   "metadata": {
    "collapsed": true
   },
   "outputs": [],
   "source": []
  }
 ],
 "metadata": {
  "kernelspec": {
   "display_name": "Python 3",
   "language": "python",
   "name": "python3"
  },
  "language_info": {
   "codemirror_mode": {
    "name": "ipython",
    "version": 3
   },
   "file_extension": ".py",
   "mimetype": "text/x-python",
   "name": "python",
   "nbconvert_exporter": "python",
   "pygments_lexer": "ipython3",
   "version": "3.5.0"
  }
 },
 "nbformat": 4,
 "nbformat_minor": 0
}
